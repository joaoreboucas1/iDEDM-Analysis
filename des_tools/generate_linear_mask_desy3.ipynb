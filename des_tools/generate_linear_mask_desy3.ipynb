{
 "cells": [
  {
   "attachments": {},
   "cell_type": "markdown",
   "id": "45dbc4da",
   "metadata": {},
   "source": [
    "# Generate Linear Mask for DES-Y3 Cosmic Shear"
   ]
  },
  {
   "cell_type": "code",
   "execution_count": 1,
   "id": "e0a4cc68",
   "metadata": {},
   "outputs": [],
   "source": [
    "import numpy as np"
   ]
  },
  {
   "cell_type": "code",
   "execution_count": 2,
   "id": "4f1b3913",
   "metadata": {},
   "outputs": [],
   "source": [
    "THETA_MIN      = 2.5            # Minimum angular scale (in arcminutes)\n",
    "THETA_MAX      = 250            # Maximum angular scale (in arcminutes)\n",
    "N_ANGULAR_BINS = 20             # Number of angular bins\n",
    "\n",
    "N_LENS_BINS    = 5              # Number of lens tomographic bins\n",
    "N_SRC_BINS     = 4              # Number of source tomographic bins\n",
    "\n",
    "N_XI_POWERSPECTRA = int(N_SRC_BINS * (N_SRC_BINS + 1) / 2)      # Number of power spectra for each \\xi"
   ]
  },
  {
   "cell_type": "code",
   "execution_count": 3,
   "id": "11526ac9",
   "metadata": {},
   "outputs": [],
   "source": [
    "theta_bins = np.logspace(np.log10(THETA_MIN), np.log10(THETA_MAX), N_ANGULAR_BINS+1)"
   ]
  },
  {
   "cell_type": "code",
   "execution_count": 5,
   "id": "0a3b841c",
   "metadata": {},
   "outputs": [
    {
     "data": {
      "text/plain": [
       "20"
      ]
     },
     "execution_count": 5,
     "metadata": {},
     "output_type": "execute_result"
    }
   ],
   "source": [
    "len(theta_bins[:-1])"
   ]
  },
  {
   "cell_type": "code",
   "execution_count": 4,
   "id": "034bd186",
   "metadata": {},
   "outputs": [
    {
     "name": "stdout",
     "output_type": "stream",
     "text": [
      "xi_p data point 190\n",
      "xi_m data point 140\n",
      "gamma_t data point 136\n",
      "w_theta data point 34\n",
      "3x2pt data point 500\n"
     ]
    }
   ],
   "source": [
    "####Fiducial\n",
    "ξ_plus_CUTOFF  = 2.756             # cutoff scale in arcminutes\n",
    "ξ_minus_CUTOFF = 8.696             # cutoff scale in arcminutes\n",
    "\n",
    "lens_cutoff = [80.88, 54.19, 42.85, 35.43, 29.73]       # cutoff scale in arcmins. \n",
    "                                                        # Different for different redshift bins\n",
    "##########\n",
    "\n",
    "ξ_plus_mask  = (theta_bins[:-1] > ξ_plus_CUTOFF)\n",
    "ξ_minus_mask = (theta_bins[:-1] > ξ_minus_CUTOFF)\n",
    "\n",
    "ξ_plus_fullmask  = np.hstack([ξ_plus_mask for i in range(N_XI_POWERSPECTRA)])\n",
    "ξ_minus_fullmask = np.hstack([ξ_minus_mask for i in range(N_XI_POWERSPECTRA)])\n",
    "\n",
    "\n",
    "lens_mask_list = [(theta_bins[:-1] > lens_cutoff[i]) for i in range(N_LENS_BINS)]\n",
    "\n",
    "γt_fullmask_list = []\n",
    "\n",
    "for i in range(N_LENS_BINS):\n",
    "    for j in range(N_SRC_BINS):\n",
    "        lens_mask = lens_mask_list[i]\n",
    "        γt_fullmask_list.append(lens_mask)\n",
    "        \n",
    "γt_fullmask = np.hstack(γt_fullmask_list)    \n",
    "\n",
    "w_fullmask = np.hstack(lens_mask_list)\n",
    "\n",
    "lsst_3x2_mask = np.hstack([ξ_plus_fullmask, ξ_minus_fullmask, γt_fullmask, w_fullmask])\n",
    "\n",
    "\n",
    "print(\"xi_p data point\", np.count_nonzero(ξ_plus_fullmask))\n",
    "print(\"xi_m data point\", np.count_nonzero(ξ_minus_fullmask))\n",
    "print(\"gamma_t data point\", np.count_nonzero(γt_fullmask))\n",
    "print(\"w_theta data point\", np.count_nonzero(w_fullmask))\n",
    "print(\"3x2pt data point\", np.count_nonzero(lsst_3x2_mask))\n",
    "\n",
    "\n",
    "with open('des_y3_fiducial_mask.mask', 'w') as f:\n",
    "    for i, mask_val in enumerate(lsst_3x2_mask):\n",
    "        f.write(\"%d\\t%d\\n\"%(i, int(mask_val)))"
   ]
  },
  {
   "cell_type": "code",
   "execution_count": 5,
   "id": "a832f2ea",
   "metadata": {},
   "outputs": [
    {
     "name": "stdout",
     "output_type": "stream",
     "text": [
      "xi_p data point 90\n",
      "xi_m data point 0\n",
      "gamma_t data point 124\n",
      "w_theta data point 31\n",
      "3x2pt data point 245\n"
     ]
    }
   ],
   "source": [
    "#### scale cut 1\n",
    "ξ_plus_CUTOFF  = 25              # cutoff scale in arcminutes\n",
    "ξ_minus_CUTOFF = 999             # cutoff scale in arcminutes\n",
    "\n",
    "lens_cutoff = [98, 62, 49, 49, 49]       # cutoff scale in arcmins. \n",
    "                                                        # Different for different redshift bins\n",
    "##########\n",
    "\n",
    "ξ_plus_mask  = (theta_bins[:-1] > ξ_plus_CUTOFF)\n",
    "ξ_minus_mask = (theta_bins[:-1] > ξ_minus_CUTOFF)\n",
    "\n",
    "ξ_plus_fullmask  = np.hstack([ξ_plus_mask for i in range(N_XI_POWERSPECTRA)])\n",
    "ξ_minus_fullmask = np.hstack([ξ_minus_mask for i in range(N_XI_POWERSPECTRA)])\n",
    "\n",
    "\n",
    "lens_mask_list = [(theta_bins[:-1] > lens_cutoff[i]) for i in range(N_LENS_BINS)]\n",
    "\n",
    "γt_fullmask_list = []\n",
    "\n",
    "for i in range(N_LENS_BINS):\n",
    "    for j in range(N_SRC_BINS):\n",
    "        lens_mask = lens_mask_list[i]\n",
    "        γt_fullmask_list.append(lens_mask)\n",
    "        \n",
    "γt_fullmask = np.hstack(γt_fullmask_list)    \n",
    "\n",
    "w_fullmask = np.hstack(lens_mask_list)\n",
    "\n",
    "lsst_3x2_mask = np.hstack([ξ_plus_fullmask, ξ_minus_fullmask, γt_fullmask, w_fullmask])\n",
    "\n",
    "print(\"xi_p data point\", np.count_nonzero(ξ_plus_fullmask))\n",
    "print(\"xi_m data point\", np.count_nonzero(ξ_minus_fullmask))\n",
    "print(\"gamma_t data point\", np.count_nonzero(γt_fullmask))\n",
    "print(\"w_theta data point\", np.count_nonzero(w_fullmask))\n",
    "print(\"3x2pt data point\", np.count_nonzero(lsst_3x2_mask))\n",
    "\n",
    "\n",
    "\n",
    "with open('des_y3_scale_cut_1.mask', 'w') as f:\n",
    "    for i, mask_val in enumerate(lsst_3x2_mask):\n",
    "        f.write(\"%d\\t%d\\n\"%(i, int(mask_val)))"
   ]
  },
  {
   "cell_type": "code",
   "execution_count": 6,
   "id": "eba2558c",
   "metadata": {},
   "outputs": [
    {
     "name": "stdout",
     "output_type": "stream",
     "text": [
      "xi_p data point 100\n",
      "xi_m data point 0\n",
      "gamma_t data point 124\n",
      "w_theta data point 31\n",
      "3x2pt data point 255\n"
     ]
    }
   ],
   "source": [
    "#### scale cut 2\n",
    "ξ_plus_CUTOFF  = 20             # cutoff scale in arcminutes\n",
    "ξ_minus_CUTOFF = 999             # cutoff scale in arcminutes\n",
    "\n",
    "lens_cutoff = [80, 60, 40, 40, 40]       # cutoff scale in arcmins. \n",
    "                                                        # Different for different redshift bins\n",
    "##########\n",
    "\n",
    "ξ_plus_mask  = (theta_bins[:-1] > ξ_plus_CUTOFF)\n",
    "ξ_minus_mask = (theta_bins[:-1] > ξ_minus_CUTOFF)\n",
    "\n",
    "ξ_plus_fullmask  = np.hstack([ξ_plus_mask for i in range(N_XI_POWERSPECTRA)])\n",
    "ξ_minus_fullmask = np.hstack([ξ_minus_mask for i in range(N_XI_POWERSPECTRA)])\n",
    "\n",
    "\n",
    "lens_mask_list = [(theta_bins[:-1] > lens_cutoff[i]) for i in range(N_LENS_BINS)]\n",
    "\n",
    "γt_fullmask_list = []\n",
    "\n",
    "for i in range(N_LENS_BINS):\n",
    "    for j in range(N_SRC_BINS):\n",
    "        lens_mask = lens_mask_list[i]\n",
    "        γt_fullmask_list.append(lens_mask)\n",
    "        \n",
    "γt_fullmask = np.hstack(γt_fullmask_list)    \n",
    "\n",
    "w_fullmask = np.hstack(lens_mask_list)\n",
    "\n",
    "lsst_3x2_mask = np.hstack([ξ_plus_fullmask, ξ_minus_fullmask, γt_fullmask, w_fullmask])\n",
    "\n",
    "print(\"xi_p data point\", np.count_nonzero(ξ_plus_fullmask))\n",
    "print(\"xi_m data point\", np.count_nonzero(ξ_minus_fullmask))\n",
    "print(\"gamma_t data point\", np.count_nonzero(γt_fullmask))\n",
    "print(\"w_theta data point\", np.count_nonzero(w_fullmask))\n",
    "print(\"3x2pt data point\", np.count_nonzero(lsst_3x2_mask))\n",
    "\n",
    "\n",
    "\n",
    "with open('des_y3_scale_cut_2.mask', 'w') as f:\n",
    "    for i, mask_val in enumerate(lsst_3x2_mask):\n",
    "        f.write(\"%d\\t%d\\n\"%(i, int(mask_val)))"
   ]
  },
  {
   "cell_type": "code",
   "execution_count": 7,
   "id": "ddb733ba",
   "metadata": {},
   "outputs": [
    {
     "name": "stdout",
     "output_type": "stream",
     "text": [
      "xi_p data point 90\n",
      "xi_m data point 0\n",
      "gamma_t data point 104\n",
      "w_theta data point 26\n",
      "3x2pt data point 220\n"
     ]
    }
   ],
   "source": [
    "#### scale cut 3\n",
    "ξ_plus_CUTOFF  = 30             # cutoff scale in arcminutes\n",
    "ξ_minus_CUTOFF = 999             # cutoff scale in arcminutes\n",
    "\n",
    "lens_cutoff = [110, 75, 60, 60, 60]       # cutoff scale in arcmins. \n",
    "                                                        # Different for different redshift bins\n",
    "##########\n",
    "\n",
    "ξ_plus_mask  = (theta_bins[:-1] > ξ_plus_CUTOFF)\n",
    "ξ_minus_mask = (theta_bins[:-1] > ξ_minus_CUTOFF)\n",
    "\n",
    "ξ_plus_fullmask  = np.hstack([ξ_plus_mask for i in range(N_XI_POWERSPECTRA)])\n",
    "ξ_minus_fullmask = np.hstack([ξ_minus_mask for i in range(N_XI_POWERSPECTRA)])\n",
    "\n",
    "\n",
    "lens_mask_list = [(theta_bins[:-1] > lens_cutoff[i]) for i in range(N_LENS_BINS)]\n",
    "\n",
    "γt_fullmask_list = []\n",
    "\n",
    "for i in range(N_LENS_BINS):\n",
    "    for j in range(N_SRC_BINS):\n",
    "        lens_mask = lens_mask_list[i]\n",
    "        γt_fullmask_list.append(lens_mask)\n",
    "        \n",
    "γt_fullmask = np.hstack(γt_fullmask_list)    \n",
    "\n",
    "w_fullmask = np.hstack(lens_mask_list)\n",
    "\n",
    "lsst_3x2_mask = np.hstack([ξ_plus_fullmask, ξ_minus_fullmask, γt_fullmask, w_fullmask])\n",
    "\n",
    "print(\"xi_p data point\", np.count_nonzero(ξ_plus_fullmask))\n",
    "print(\"xi_m data point\", np.count_nonzero(ξ_minus_fullmask))\n",
    "print(\"gamma_t data point\", np.count_nonzero(γt_fullmask))\n",
    "print(\"w_theta data point\", np.count_nonzero(w_fullmask))\n",
    "print(\"3x2pt data point\", np.count_nonzero(lsst_3x2_mask))\n",
    "\n",
    "\n",
    "with open('des_y3_scale_cut_3.mask', 'w') as f:\n",
    "    for i, mask_val in enumerate(lsst_3x2_mask):\n",
    "        f.write(\"%d\\t%d\\n\"%(i, int(mask_val)))"
   ]
  },
  {
   "cell_type": "code",
   "execution_count": 8,
   "id": "0209ce02",
   "metadata": {},
   "outputs": [
    {
     "name": "stdout",
     "output_type": "stream",
     "text": [
      "3x2pt data point 1059\n"
     ]
    }
   ],
   "source": [
    "#test the mask on cocoa repo, it's the same as the fiducial one, in terms of data points\n",
    "count_dp = 0\n",
    "with open('lsst_3x2.mask', 'r') as f:\n",
    "    lines = f.readlines()\n",
    "    for i, line in enumerate(lines):\n",
    "        theta, mask = line.split()\n",
    "        if mask == str(1):\n",
    "            count_dp += 1\n",
    "\n",
    "print(\"3x2pt data point\",count_dp)"
   ]
  }
 ],
 "metadata": {
  "kernelspec": {
   "display_name": "Python 3 (ipykernel)",
   "language": "python",
   "name": "python3"
  },
  "language_info": {
   "codemirror_mode": {
    "name": "ipython",
    "version": 3
   },
   "file_extension": ".py",
   "mimetype": "text/x-python",
   "name": "python",
   "nbconvert_exporter": "python",
   "pygments_lexer": "ipython3",
   "version": "3.9.13"
  }
 },
 "nbformat": 4,
 "nbformat_minor": 5
}
